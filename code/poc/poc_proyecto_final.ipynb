{
 "cells": [
  {
   "cell_type": "markdown",
   "id": "2bfb4152-5997-4f3b-96b9-d8a00ef59190",
   "metadata": {},
   "source": [
    "### POC Proyecto Final\n",
    "Actualmente el proyecto realiza lo siguiente: \n",
    "- Genera la lista de canciones mediante one shoot prompt en gpt.\n",
    "- Busca con la API de spotify la lista de canciones recomendadas por la IA\n",
    "- Crea la lista de canciones con aquellas que fueron encontradas\n",
    "- Setea el titulo de la playlist acorde al tema elegido\n",
    "\n",
    "**Disclaimer**: La imagen se genera y prueba con el prompt en dall-e de Bing hasta tanto no se desarrolle la versión final"
   ]
  },
  {
   "cell_type": "code",
   "execution_count": 1,
   "id": "e10bafb1-0db6-4621-a22a-29e744b1d4c0",
   "metadata": {},
   "outputs": [],
   "source": [
    "# Library imports\n",
    "import json\n",
    "import openai\n",
    "import os \n",
    "import spotipy\n",
    "from dotenv import dotenv_values"
   ]
  },
  {
   "cell_type": "code",
   "execution_count": null,
   "id": "75b9aa23-0676-4271-a352-9fcb4c7f4fbc",
   "metadata": {},
   "outputs": [],
   "source": [
    "# Env variables \n",
    "# Para poder probar el código es necesario cargar las credenciales de la API de OpenAI y Spotify en un archivo .env\n",
    "config = dotenv_values(\".env\")\n",
    "openai.api_key = openai.api_key = config[\"OPENAI_API_KEY\"]\n",
    "SPOTIFY_CLIENT_ID = config[\"SPOTIFY_CLIENT_ID\"]\n",
    "SPOTIFY_CLIENT_SECRET = config[\"SPOTIFY_CLIENT_SECRET\"]"
   ]
  },
  {
   "cell_type": "code",
   "execution_count": 66,
   "id": "181c0ca4-3445-4000-8887-d587967932d7",
   "metadata": {},
   "outputs": [],
   "source": [
    "# get sound list\n",
    "def get_playlist(topic):\n",
    "\n",
    "    prompt = f\"\"\"\n",
    "        Necesito que me proporciones canciones infantiles cuya tematica sea: {topic} \n",
    "        Este contenido debe encontrarse en español, no debe repetirse\n",
    "        Enfócate principalmente en que la canción contenga la temática que se quiere enseñar al niño.\n",
    "        \"\"\"\n",
    "\n",
    "\n",
    "    context = \"\"\"Eres un asistente útil para generar listas de reproducción.\n",
    "                Deberías generar una lista de canciones y sus artistas según la indicación que se solicita.\n",
    "                Debes ser claro, exacto y basarte en la información que contengas almacenada.\n",
    "                Deberás devolver un array JSON, donde cada elemento sigue este formato:\n",
    "                {\"song\": <song_title>, \"artist\": <artist_name>}\n",
    "                \"\"\"\n",
    "\n",
    "    content = f\"Generar una lista de 5 canciones basadas en este prompt: {prompt}\"\n",
    "    \n",
    "    messages = [\n",
    "        { \"role\": \"system\", \"content\": context},\n",
    "        { \"role\": \"user\", \"content\": content, }\n",
    "    ]\n",
    "\n",
    "    response = openai.ChatCompletion.create(model=\"gpt-3.5-turbo\", messages=messages)\n",
    "\n",
    "    playlist = json.loads(response.choices[0].message.content)\n",
    "    return playlist"
   ]
  },
  {
   "cell_type": "code",
   "execution_count": 69,
   "id": "0bf0dee8-e48a-4a76-9fb1-f64b53cb6e22",
   "metadata": {},
   "outputs": [],
   "source": [
    "# Generate image\n",
    "# Tanto la generación de la imagen, como la asignación a la playlist debido a que todavía es un POC"
   ]
  },
  {
   "cell_type": "code",
   "execution_count": 67,
   "id": "178ed90e-3330-4695-896e-bf2c543d07db",
   "metadata": {},
   "outputs": [],
   "source": [
    "# Create playlist\n",
    "def add_songs_to_spotify(topic, playlist):\n",
    "\n",
    "    sp = spotipy.Spotify( auth_manager=spotipy.SpotifyOAuth( client_id= SPOTIFY_CLIENT_ID, \n",
    "                                                            client_secret= SPOTIFY_CLIENT_SECRET, \n",
    "                                                            redirect_uri=\"http://localhost:9999\", \n",
    "                                                            scope=\"playlist-modify-private\"))\n",
    "\n",
    "    current_user = sp.current_user()\n",
    "\n",
    "    assert current_user is not None\n",
    "\n",
    "    track_uris = []\n",
    "    for item in playlist:\n",
    "        artist, song = item[\"artist\"], item[\"song\"]\n",
    "\n",
    "        advanced_query = f\"artist:({artist}) track:({song})\"\n",
    "        basic_query = f\"{song} {artist}\"\n",
    "\n",
    "        for query in [advanced_query, basic_query]:\n",
    "            search_results = sp.search(\n",
    "                q=query, limit=10, type=\"track\"\n",
    "            )\n",
    "\n",
    "            if (\n",
    "                not search_results[\"tracks\"][\"items\"]\n",
    "                or search_results[\"tracks\"][\"items\"][0][\"popularity\"] < 20\n",
    "            ):\n",
    "                continue\n",
    "            else:\n",
    "                good_guess = search_results[\"tracks\"][\"items\"][0]\n",
    "                print(f\"Encontrada: {good_guess['name']} [{good_guess['id']}]\")\n",
    "                track_uris.append(good_guess[\"id\"])\n",
    "                break\n",
    "\n",
    "        else:\n",
    "            print(\n",
    "                f\"Consultas {advanced_query} y {basic_query} no devuelve buenos resultados. Ignorando.\"\n",
    "            )\n",
    "\n",
    "    created_playlist = sp.user_playlist_create(\n",
    "        current_user[\"id\"],\n",
    "        public=False,\n",
    "        name=f\"{topic}\",\n",
    "    )\n",
    "\n",
    "    sp.user_playlist_add_tracks(current_user[\"id\"], created_playlist[\"id\"], track_uris)\n",
    "\n",
    "    print(\"\\n\")\n",
    "    print(f\"Lista de reproducción creada: {created_playlist['name']}\")\n",
    "    print(created_playlist[\"external_urls\"][\"spotify\"])"
   ]
  },
  {
   "cell_type": "code",
   "execution_count": null,
   "id": "28e7c6d2-a09e-4b43-a132-aaa81e1adb3c",
   "metadata": {},
   "outputs": [],
   "source": [
    "# Inputs\n",
    "topic = input(\"Seleccione el tema a tratar: \") # Example > El abecedario\n",
    "print(f\"Creando playlist del tema elegido: {topic}...\")\n",
    "playlist = get_playlist(topic)\n",
    "\n",
    "add_songs_to_spotify(topic, playlist)"
   ]
  }
 ],
 "metadata": {
  "kernelspec": {
   "display_name": "Python 3 (ipykernel)",
   "language": "python",
   "name": "python3"
  },
  "language_info": {
   "codemirror_mode": {
    "name": "ipython",
    "version": 3
   },
   "file_extension": ".py",
   "mimetype": "text/x-python",
   "name": "python",
   "nbconvert_exporter": "python",
   "pygments_lexer": "ipython3",
   "version": "3.10.13"
  }
 },
 "nbformat": 4,
 "nbformat_minor": 5
}
